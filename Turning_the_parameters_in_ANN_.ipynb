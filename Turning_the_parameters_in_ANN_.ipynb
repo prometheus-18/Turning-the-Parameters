{
  "nbformat": 4,
  "nbformat_minor": 0,
  "metadata": {
    "colab": {
      "provenance": []
    },
    "kernelspec": {
      "name": "python3",
      "display_name": "Python 3"
    },
    "language_info": {
      "name": "python"
    }
  },
  "cells": [
    {
      "cell_type": "code",
      "execution_count": null,
      "metadata": {
        "id": "yuWcLPH2zP9J"
      },
      "outputs": [],
      "source": [
        "import numpy as np  \n",
        "import matplotlib.pyplot as plt \n",
        "import pandas as pd  "
      ]
    },
    {
      "cell_type": "code",
      "source": [
        "dataset = pd.read_csv('Churn_Modelling.csv')  "
      ],
      "metadata": {
        "id": "tIIpHL2U1dfC"
      },
      "execution_count": null,
      "outputs": []
    },
    {
      "cell_type": "code",
      "source": [
        "X = dataset.iloc[:, 3:13].values  \n",
        "y = dataset.iloc[:, 13].values  "
      ],
      "metadata": {
        "id": "J9A_keUz1mtp"
      },
      "execution_count": null,
      "outputs": []
    },
    {
      "cell_type": "code",
      "source": [
        "from sklearn.preprocessing import LabelEncoder, OneHotEncoder  \n",
        "labelencoder_X_1 = LabelEncoder()  \n",
        "X[:, 1] = labelencoder_X_1.fit_transform(X[:, 1])  "
      ],
      "metadata": {
        "id": "hmtUgRTx2B3o"
      },
      "execution_count": null,
      "outputs": []
    },
    {
      "cell_type": "code",
      "source": [
        "labelencoder_X_2 = LabelEncoder()  \n",
        "X[:, 2] = labelencoder_X_2.fit_transform(X[:, 2])  "
      ],
      "metadata": {
        "id": "Srxvz7VN2LeJ"
      },
      "execution_count": null,
      "outputs": []
    },
    {
      "cell_type": "code",
      "source": [
        "from sklearn.compose import ColumnTransformer  \n",
        "label_encoder_x_1 = LabelEncoder()  \n",
        "X[: , 2] = label_encoder_x_1.fit_transform(X[:,2])  \n",
        "transformer = ColumnTransformer(  \n",
        "    transformers=[  \n",
        "        (\"OneHot\",        # Just a name  \n",
        "         OneHotEncoder(), # The transformer class  \n",
        "         [1]              # The column(s) to be applied on.  \n",
        "         )  \n",
        "    ],  \n",
        "    remainder='passthrough' # don't apply anything to the remaining columns   \n",
        ")  \n",
        "X = transformer.fit_transform(X.tolist())  \n",
        "X = X.astype('float64')  "
      ],
      "metadata": {
        "id": "pxJR8eoJ2RUY"
      },
      "execution_count": null,
      "outputs": []
    },
    {
      "cell_type": "code",
      "source": [
        "from sklearn.model_selection import train_test_split  \n",
        "X_train, X_test, y_train, y_test = train_test_split(X, y, test_size = 0.2, random_state = 0) "
      ],
      "metadata": {
        "id": "O7llVqsa2TLI"
      },
      "execution_count": null,
      "outputs": []
    },
    {
      "cell_type": "code",
      "source": [
        "from sklearn.preprocessing import StandardScaler  \n",
        "sc = StandardScaler()  \n",
        "X_train = sc.fit_transform(X_train)  \n",
        "X_test = sc.transform(X_test)  "
      ],
      "metadata": {
        "id": "dxfZ0Afs3bpg"
      },
      "execution_count": null,
      "outputs": []
    },
    {
      "cell_type": "code",
      "source": [
        "import keras   \n"
      ],
      "metadata": {
        "id": "jesC5HNc3hhH"
      },
      "execution_count": null,
      "outputs": []
    },
    {
      "cell_type": "code",
      "source": [
        "from keras.models import Sequential  \n",
        "from keras.layers import Dense  "
      ],
      "metadata": {
        "id": "LmiWHx593j_v"
      },
      "execution_count": null,
      "outputs": []
    },
    {
      "cell_type": "code",
      "source": [
        "classifier = Sequential()"
      ],
      "metadata": {
        "id": "6-uMftLn3oNA"
      },
      "execution_count": null,
      "outputs": []
    },
    {
      "cell_type": "code",
      "source": [
        "classifier.add(Dense(units = 6, kernel_initializer = 'uniform', activation = 'relu', input_dim = 11))  "
      ],
      "metadata": {
        "id": "nvDF9vA03smn"
      },
      "execution_count": null,
      "outputs": []
    },
    {
      "cell_type": "code",
      "source": [
        "classifier.add(Dense(units = 6, kernel_initializer = 'uniform', activation = 'relu'))  "
      ],
      "metadata": {
        "id": "lb5379jS3y8n"
      },
      "execution_count": null,
      "outputs": []
    },
    {
      "cell_type": "code",
      "source": [
        "classifier.add(Dense(units = 1, kernel_initializer = 'uniform', activation = 'sigmoid'))  "
      ],
      "metadata": {
        "id": "G8xF0N8M32LA"
      },
      "execution_count": null,
      "outputs": []
    },
    {
      "cell_type": "code",
      "source": [
        "classifier.compile(optimizer = 'adam', loss = 'binary_crossentropy', metrics = ['accuracy'])  "
      ],
      "metadata": {
        "id": "65kx2mco37DA"
      },
      "execution_count": null,
      "outputs": []
    }
  ]
}